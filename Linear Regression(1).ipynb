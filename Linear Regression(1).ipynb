{
 "cells": [
  {
   "cell_type": "code",
   "execution_count": null,
   "metadata": {},
   "outputs": [],
   "source": [
    "import numpy as np\n",
    "import matplotlib.pyplot as plt\n",
    "%matplotlib inline"
   ]
  },
  {
   "cell_type": "markdown",
   "metadata": {},
   "source": [
    "### Generate some random data about a trend line."
   ]
  },
  {
   "cell_type": "code",
   "execution_count": null,
   "metadata": {},
   "outputs": [],
   "source": [
    "np.random.seed(119)\n",
    "\n",
    "npoints =50\n",
    "\n",
    "x=np.linspace(0,10.0,npoints)\n",
    "\n",
    "m = 2.0\n",
    "b = 1.0\n",
    "\n",
    "sigma = 2.0\n",
    "\n",
    "y= m*x + b + np.random.normal(scale=sigma, size=npoints)\n",
    "y_err = np.full(npoints, sigma)"
   ]
  },
  {
   "cell_type": "code",
   "execution_count": null,
   "metadata": {},
   "outputs": [],
   "source": [
    "f = plt.figure(figsize=(7,7))\n",
    "\n",
    "plt.errorbar(x,y,yerr=y_err, fmt='o')\n",
    "\n",
    "plt.xlabel('x')\n",
    "plt.ylabel('y')"
   ]
  },
  {
   "cell_type": "code",
   "execution_count": null,
   "metadata": {},
   "outputs": [],
   "source": [
    "m_fit, b_fit = np.poly1d(np.polyfit(x,y,1,w=1.0/y_err))\n",
    "print(m_fit, b_fit )\n",
    "\n",
    "y_fit = m_fit* x + b_fit"
   ]
  },
  {
   "cell_type": "code",
   "execution_count": null,
   "metadata": {},
   "outputs": [],
   "source": [
    "plt.errorbar(x,y,yerr=y_err, fmt='o',label='data')\n",
    "plt.plot(x,y_fit,label='fit')\n",
    "plt.xlabel('x')\n",
    "plt.ylabel('y')\n",
    "plt.legend()"
   ]
  },
  {
   "cell_type": "code",
   "execution_count": null,
   "metadata": {},
   "outputs": [],
   "source": []
  },
  {
   "cell_type": "code",
   "execution_count": null,
   "metadata": {},
   "outputs": [],
   "source": [
    "m_A = 0.0\n",
    "m_B = 0.0\n",
    "m_C = 0.0\n",
    "m_D = 0.0\n",
    "\n",
    "m_A = np.sum(x*y)\n",
    "m_B = np.sum(x)*np.sum(y)\n",
    "m_C = np.sum(x*x)\n",
    "m_D = np.sum(x)**2\n",
    "\n",
    "m_fit_lr = (float(npoints)*m_A - m_B)/(float(npoints)*m_C - m_D)\n",
    "\n",
    "y_mean = np.mean(y)\n",
    "x_mean = np.mean(x)\n",
    "\n",
    "b_fit_lr = y_mean - m_fit_lr * x_mean\n",
    "\n",
    "y_fit_lr = m_fit_lr*x+ b_fit_lr\n",
    "\n",
    "print(m_fit_lr, b_fit_lr)"
   ]
  },
  {
   "cell_type": "code",
   "execution_count": null,
   "metadata": {},
   "outputs": [],
   "source": [
    "plt.errorbar(x,y,yerr=y_err, fmt='o',label='data')\n",
    "\n",
    "plt.plot(x,y_fit_lr,'o',label='data')\n",
    "\n",
    "\n",
    "plt.plot(x,y_fit,label='fit')\n",
    "\n",
    "plt.xlabel('x')\n",
    "plt.ylabel('y')\n",
    "plt.legend()\n",
    "plt.show()"
   ]
  },
  {
   "cell_type": "code",
   "execution_count": null,
   "metadata": {},
   "outputs": [],
   "source": []
  }
 ],
 "metadata": {
  "kernelspec": {
   "display_name": "Python 3",
   "language": "python",
   "name": "python3"
  },
  "language_info": {
   "codemirror_mode": {
    "name": "ipython",
    "version": 3
   },
   "file_extension": ".py",
   "mimetype": "text/x-python",
   "name": "python",
   "nbconvert_exporter": "python",
   "pygments_lexer": "ipython3",
   "version": "3.7.0"
  }
 },
 "nbformat": 4,
 "nbformat_minor": 2
}
