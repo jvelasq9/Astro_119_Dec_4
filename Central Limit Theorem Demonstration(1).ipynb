{
 "cells": [
  {
   "cell_type": "code",
   "execution_count": null,
   "metadata": {},
   "outputs": [],
   "source": [
    "import numpy as np\n",
    "import matplotlib.pyplot as plt\n",
    "%matplotlib inline"
   ]
  },
  {
   "cell_type": "markdown",
   "metadata": {},
   "source": [
    "### Set up a series of random uniform distribtion"
   ]
  },
  {
   "cell_type": "code",
   "execution_count": null,
   "metadata": {},
   "outputs": [],
   "source": [
    "n_exp= 10000\n",
    "n_draw = 10\n",
    "n_bins = 100\n",
    "x_min =0.15\n",
    "x_max = 0.85\n",
    "\n",
    "means = np.zeros(n_exp)"
   ]
  },
  {
   "cell_type": "markdown",
   "metadata": {},
   "source": [
    "### Perfrom the experiment\n"
   ]
  },
  {
   "cell_type": "code",
   "execution_count": null,
   "metadata": {},
   "outputs": [],
   "source": [
    "for i in range(n_exp):\n",
    "    z = np.random.uniform(0.,1.,n_draw)\n",
    "    \n",
    "    means[i] = np.mean(z)"
   ]
  },
  {
   "cell_type": "code",
   "execution_count": null,
   "metadata": {},
   "outputs": [],
   "source": [
    "def gaussian(x,mu,sigma):\n",
    "    return 1./(2.0*np.pi*sigma**2)**0.5 * np.exp(-0.5*((x-mu)/sigma)**2)"
   ]
  },
  {
   "cell_type": "markdown",
   "metadata": {},
   "source": [
    "### Plot Histogram"
   ]
  },
  {
   "cell_type": "code",
   "execution_count": null,
   "metadata": {},
   "outputs": [],
   "source": [
    "fig = plt.figure(figsize=(7,7))\n",
    "\n",
    "y_hist, x_hist, ignored = plt.hist(means,bins = n_bins, range = [x_min,x_max], density=True)\n",
    "\n",
    "xx = np.linspace(x_min,x_max, 1000)\n",
    "\n",
    "sigma= 1./12.0 **0.5 / 10.0**0.5\n",
    "\n",
    "plt.plot(xx, gaussian(xx,0.5,sigma),color='red')\n",
    "#plt.plot([0,1.1*gaussian(0.5,0.5,sigma)])\n",
    "plt.xlim(x_min,x_max)\n",
    "\n",
    "plt.xlabel('x')\n",
    "plt.ylabel('y(x)')\n",
    "\n",
    "plt.show()"
   ]
  },
  {
   "cell_type": "code",
   "execution_count": null,
   "metadata": {},
   "outputs": [],
   "source": []
  }
 ],
 "metadata": {
  "kernelspec": {
   "display_name": "Python 3",
   "language": "python",
   "name": "python3"
  },
  "language_info": {
   "codemirror_mode": {
    "name": "ipython",
    "version": 3
   },
   "file_extension": ".py",
   "mimetype": "text/x-python",
   "name": "python",
   "nbconvert_exporter": "python",
   "pygments_lexer": "ipython3",
   "version": "3.7.0"
  }
 },
 "nbformat": 4,
 "nbformat_minor": 2
}
